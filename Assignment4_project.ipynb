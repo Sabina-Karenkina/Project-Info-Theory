{
 "cells": [
  {
   "cell_type": "code",
   "execution_count": 1,
   "metadata": {},
   "outputs": [
    {
     "data": {
      "text/plain": [
       "\"In Fano's method, the symbols are arranged in order from most probable to least probable\""
      ]
     },
     "execution_count": 1,
     "metadata": {},
     "output_type": "execute_result"
    }
   ],
   "source": [
    "str_input = open('Text.txt', 'r').read()\n",
    "str_input"
   ]
  },
  {
   "cell_type": "code",
   "execution_count": 2,
   "metadata": {
    "scrolled": false
   },
   "outputs": [
    {
     "data": {
      "text/plain": [
       "{' ': 14,\n",
       " 'o': 9,\n",
       " 'e': 8,\n",
       " 'r': 8,\n",
       " 'a': 7,\n",
       " 's': 5,\n",
       " 't': 5,\n",
       " 'b': 5,\n",
       " 'n': 4,\n",
       " 'm': 4,\n",
       " 'l': 4,\n",
       " 'd': 3,\n",
       " 'h': 2,\n",
       " 'p': 2,\n",
       " 'I': 1,\n",
       " 'F': 1,\n",
       " \"'\": 1,\n",
       " ',': 1,\n",
       " 'y': 1,\n",
       " 'g': 1,\n",
       " 'i': 1,\n",
       " 'f': 1}"
      ]
     },
     "execution_count": 2,
     "metadata": {},
     "output_type": "execute_result"
    }
   ],
   "source": [
    "symb_fr = {}\n",
    "for keys in str_input:\n",
    "    symb_fr[keys] = symb_fr.get(keys,0) + 1\n",
    "symb_freq = dict(sorted(symb_fr.items(), key=lambda item: item[1], reverse=True))\n",
    "symb_freq"
   ]
  },
  {
   "cell_type": "code",
   "execution_count": 3,
   "metadata": {},
   "outputs": [
    {
     "name": "stdout",
     "output_type": "stream",
     "text": [
      "  - 0.159\n",
      "o - 0.102\n",
      "e - 0.091\n",
      "r - 0.091\n",
      "a - 0.08\n",
      "s - 0.057\n",
      "t - 0.057\n",
      "b - 0.057\n",
      "n - 0.045\n",
      "m - 0.045\n",
      "l - 0.045\n",
      "d - 0.034\n",
      "h - 0.023\n",
      "p - 0.023\n",
      "I - 0.011\n",
      "F - 0.011\n",
      "' - 0.011\n",
      ", - 0.011\n",
      "y - 0.011\n",
      "g - 0.011\n",
      "i - 0.011\n",
      "f - 0.011\n"
     ]
    }
   ],
   "source": [
    "def probability(my_dict):\n",
    "    sum_symb = sum(my_dict.values())\n",
    "    for i in my_dict:\n",
    "        my_dict[i] = round(float(my_dict[i]/sum_symb),3)\n",
    "    return my_dict\n",
    "probability(symb_freq)\n",
    "for j in symb_freq:\n",
    "        print(j,'-', symb_freq[j])"
   ]
  },
  {
   "cell_type": "code",
   "execution_count": 5,
   "metadata": {},
   "outputs": [
    {
     "name": "stdout",
     "output_type": "stream",
     "text": [
      "Text is:  In Fano's method, the symbols are arranged in order from most probable to least probable\n",
      "data is  616  bits\n",
      "Huffman  Tree:\n",
      "Node 0 : [[88, \"lmrnbost ad',FIefghiyp\"]]\n",
      "Node 1 : [[34, 'lmrnbo', '0'], [54, \"st ad',FIefghiyp\", '1']]\n",
      "Node 2 : [[24, 'st ', '0'], [30, \"ad',FIefghiyp\", '1']]\n",
      "Node 3 : [[16, 'lmr', '0'], [18, 'nbo', '1'], [30, \"ad',FIefghiyp\", '1']]\n",
      "Node 4 : [[14, \"ad',FI\", '0'], [16, 'efghiyp', '1'], [18, 'nbo', '1']]\n",
      "Node 5 : [[10, 'st', '0'], [14, ' ', '1'], [16, 'efghiyp', '1'], [18, 'nbo', '1']]\n",
      "Node 6 : [[9, 'nb', '0'], [9, 'o', '1'], [14, ' ', '1'], [16, 'efghiyp', '1']]\n",
      "Node 7 : [[8, 'lm', '0'], [8, 'r', '1'], [9, 'o', '1'], [14, ' ', '1'], [16, 'efghiyp', '1']]\n",
      "Node 8 : [[8, 'e', '0'], [8, 'fghiyp', '1'], [8, 'r', '1'], [9, 'o', '1'], [14, ' ', '1']]\n",
      "Node 9 : [[7, 'a', '0'], [7, \"d',FI\", '1'], [8, 'fghiyp', '1'], [8, 'r', '1'], [9, 'o', '1'], [14, ' ', '1']]\n",
      "Node 10 : [[5, 's', '0'], [5, 't', '1'], [7, \"d',FI\", '1'], [8, 'fghiyp', '1'], [8, 'r', '1'], [9, 'o', '1']]\n",
      "Node 11 : [[4, 'n', '0'], [5, 'b', '1'], [5, 't', '1'], [7, \"d',FI\", '1'], [8, 'fghiyp', '1'], [8, 'r', '1'], [14, ' ', '1']]\n",
      "Node 12 : [[4, 'l', '0'], [4, 'm', '1'], [5, 'b', '1'], [5, 't', '1'], [7, \"d',FI\", '1'], [8, 'fghiyp', '1'], [9, 'o', '1']]\n",
      "Node 13 : [[4, 'fgh', '0'], [4, 'iyp', '1'], [4, 'm', '1'], [5, 'b', '1'], [5, 't', '1'], [7, \"d',FI\", '1'], [8, 'r', '1'], [14, ' ', '1']]\n",
      "Node 14 : [[3, 'd', '0'], [4, \"',FI\", '1'], [4, 'iyp', '1'], [4, 'm', '1'], [5, 'b', '1'], [5, 't', '1'], [8, 'e', '0'], [9, 'o', '1']]\n",
      "Node 15 : [[2, 'iy', '0'], [2, 'p', '1'], [4, \"',FI\", '1'], [4, 'l', '0'], [4, 'n', '0'], [5, 's', '0'], [7, 'a', '0'], [8, 'r', '1'], [14, ' ', '1']]\n",
      "Node 16 : [[2, 'fg', '0'], [2, 'h', '1'], [2, 'p', '1'], [4, \"',FI\", '1'], [4, 'm', '1'], [5, 'b', '1'], [5, 't', '1'], [8, 'e', '0'], [9, 'o', '1']]\n",
      "Node 17 : [[2, \"',\", '0'], [2, 'FI', '1'], [2, 'h', '1'], [2, 'p', '1'], [4, 'l', '0'], [4, 'n', '0'], [5, 's', '0'], [7, 'a', '0'], [8, 'r', '1'], [14, ' ', '1']]\n",
      "Node 18 : [[1, 'i', '0'], [1, 'y', '1'], [2, 'FI', '1'], [2, 'h', '1'], [3, 'd', '0'], [4, 'm', '1'], [5, 'b', '1'], [5, 't', '1'], [8, 'e', '0'], [9, 'o', '1']]\n",
      "Node 19 : [[1, 'f', '0'], [1, 'g', '1'], [1, 'y', '1'], [2, 'FI', '1'], [2, 'p', '1'], [4, 'l', '0'], [4, 'n', '0'], [5, 's', '0'], [7, 'a', '0'], [8, 'r', '1'], [14, ' ', '1']]\n",
      "Node 20 : [[1, 'F', '0'], [1, 'I', '1'], [1, 'g', '1'], [1, 'y', '1'], [2, 'h', '1'], [3, 'd', '0'], [4, 'm', '1'], [5, 'b', '1'], [5, 't', '1'], [8, 'e', '0'], [9, 'o', '1']]\n",
      "Node 21 : [[1, \"'\", '0'], [1, ',', '1'], [1, 'I', '1'], [1, 'g', '1'], [1, 'y', '1'], [2, 'p', '1'], [4, 'l', '0'], [4, 'n', '0'], [5, 's', '0'], [7, 'a', '0'], [8, 'r', '1'], [14, ' ', '1']]\n",
      "\n",
      "Binary code for each symbol:\n",
      "I 1101111\n",
      "n 0100\n",
      "  101\n",
      "F 1101110\n",
      "a 1100\n",
      "o 011\n",
      "' 1101100\n",
      "s 1000\n",
      "m 0001\n",
      "e 1110\n",
      "t 1001\n",
      "h 111101\n",
      "d 11010\n",
      ", 1101101\n",
      "y 1111101\n",
      "b 0101\n",
      "l 0000\n",
      "r 001\n",
      "g 1111001\n",
      "i 1111100\n",
      "f 1111000\n",
      "p 111111\n",
      "Compression ratio of 1.73\n"
     ]
    }
   ],
   "source": [
    "#Assignment 3 - Huffman encoding\n",
    "print (\"Text is: \", str_input)\n",
    "print (\"data is \",len(str_input) * 7, \" bits\")\n",
    "                  \n",
    "#creates a list of characters and their probabilities and a list\n",
    "#of characters in use\n",
    "char_and_freq = []\n",
    "chars = []\n",
    "for char in str_input:\n",
    "    if char not in char_and_freq:\n",
    "        freq = str_input.count(char)\n",
    "        char_and_freq.append(freq)\n",
    "        char_and_freq.append(char)\n",
    "        chars.append(char)\n",
    "                  \n",
    "#generating starting nodes for  huffman tree with frequencies\n",
    "nodes = []\n",
    "while len(char_and_freq) > 0:\n",
    "    nodes.append(char_and_freq[0:2])\n",
    "    char_and_freq = char_and_freq[2:]\n",
    "nodes.sort()\n",
    "huffman_tree = []\n",
    "huffman_tree.append(nodes)\n",
    "\n",
    "#combine base nodes to create  Huffman tree by recurcing\n",
    "def combine_node(nodes):\n",
    "    index = 0\n",
    "    newNode = []\n",
    "    #get two lowest nodes\n",
    "    if len(nodes) > 1:\n",
    "        nodes.sort()\n",
    "        #adds in the 0,1 for later use\n",
    "        nodes[index].append('0')\n",
    "        nodes[index+1].append('1')\n",
    "        first_node = (nodes[index][0] + nodes[index+1][0])\n",
    "        second_node = (nodes[index][1] + nodes[index+1][1])\n",
    "        newNode.append(first_node)\n",
    "        newNode.append(second_node)\n",
    "        newNodes = []\n",
    "        newNodes.append(newNode)\n",
    "        newNodes = newNodes + nodes[2:]\n",
    "        nodes = newNodes\n",
    "        huffman_tree.append(nodes)\n",
    "        combine_node(nodes)\n",
    "    return huffman_tree\n",
    "#\n",
    "newNodes = combine_node(nodes)\n",
    "\n",
    "#invert the tree\n",
    "huffman_tree.sort(reverse=True)\n",
    "print (\"Huffman  Tree:\")\n",
    "\n",
    "#delete duplicates in tree and create an array of nodes \n",
    "checklst = []\n",
    "for lvl in huffman_tree:\n",
    "    for node in lvl:\n",
    "        if node not in checklst:\n",
    "            checklst.append(node)\n",
    "        else:\n",
    "            lvl.remove(node)\n",
    "count = 0\n",
    "for lvl in huffman_tree:\n",
    "    print (\"Node\",count,\":\", lvl)\n",
    "    count +=1\n",
    "    \n",
    "print()\n",
    "\n",
    "#build the binary codes for each char\n",
    "char_binary = []\n",
    "if len(chars) == 1:\n",
    "    char_code = [chars[0],\"0\"]\n",
    "    char_binary.append(char_code*len(str_input))\n",
    "else:\n",
    "    for char in chars:\n",
    "        charcode = \"\"\n",
    "        for node in checklst:\n",
    "            if len(node) > 2 and char in node[1]:\n",
    "                charcode = charcode + node[2]\n",
    "        char_code = [char,charcode]\n",
    "        char_binary.append(char_code)\n",
    "\n",
    "#output chars with their bins\n",
    "print(\"Binary code for each symbol:\")\n",
    "for char in char_binary:\n",
    "    print(char[0], char[1])\n",
    "    \n",
    "#create bitstring of the original messgage using\n",
    "#the new codes you have generated for each symbol\n",
    "bitStr = \"\"\n",
    "for character in str_input:\n",
    "    for item in char_binary:\n",
    "        if character in item:\n",
    "            bitStr = bitStr + item[1]\n",
    "\n",
    "#converting string to bin digits\n",
    "binary = ((bin(int(bitStr, base=2))))\n",
    "\n",
    "#Data compression ratio\n",
    "print (\"Compression ratio of\", round((len(str_input) * 7)/(len(binary) - 2), 2))\n"
   ]
  },
  {
   "cell_type": "code",
   "execution_count": 10,
   "metadata": {},
   "outputs": [
    {
     "name": "stdout",
     "output_type": "stream",
     "text": [
      "Original text :  In Fano's method, the symbols are arranged in order from most probable to least probable\n",
      "Encoded text :  0b11011110100101110111011000100011110110010001010001111010011111010111101011011011011001111101111010110001111101000101010110000100010111000011110101110000100111000100111100111101101010111111000100101011001110101110001101111100000101100011010001011100010011011111110010110101110001010000111010110010111010000111011001000100110111111100101101011100010100001110\n",
      "Decoded text :  In Fano's method, the symbols are arranged in order from most probable to least probable\n",
      "The original text and decoded text match. \n"
     ]
    }
   ],
   "source": [
    "#Assignment4 - Decode back into text the result binary sequence\n",
    "print (\"Original text : \", str_input)\n",
    "print (\"Encoded text : \", binary)\n",
    "\n",
    "#uncompressing using char binary array\n",
    "bitStr = str(binary[2:])\n",
    "uncom_Str = \"\"\n",
    "code = \"\"\n",
    "for digit in bitStr:\n",
    "    code = code + digit\n",
    "    index = 0\n",
    "    for char in char_binary:\n",
    "        if code == char[1]:\n",
    "            uncom_Str = uncom_Str + char_binary[index][0]\n",
    "            code = \"\"\n",
    "        index +=1\n",
    "print (\"Decoded text : \", uncom_Str)\n",
    "if str_input  == uncom_Str:\n",
    "    print (\"The original text and decoded text match. \")"
   ]
  },
  {
   "cell_type": "code",
   "execution_count": null,
   "metadata": {},
   "outputs": [],
   "source": []
  }
 ],
 "metadata": {
  "kernelspec": {
   "display_name": "Python 3",
   "language": "python",
   "name": "python3"
  },
  "language_info": {
   "codemirror_mode": {
    "name": "ipython",
    "version": 3
   },
   "file_extension": ".py",
   "mimetype": "text/x-python",
   "name": "python",
   "nbconvert_exporter": "python",
   "pygments_lexer": "ipython3",
   "version": "3.8.5"
  }
 },
 "nbformat": 4,
 "nbformat_minor": 4
}
