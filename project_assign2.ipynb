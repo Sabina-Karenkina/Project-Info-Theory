{
 "cells": [
  {
   "cell_type": "code",
   "execution_count": 1,
   "metadata": {},
   "outputs": [
    {
     "data": {
      "text/plain": [
       "'In Fano\\'s method, the symbols are arranged in order from most probable to least probable, and then divided into two sets whose total probabilities are as close as possible to being equal. All symbols then have the first digits of their codes assigned; symbols in the first set receive \"0\" and symbols in the second set receive \"1\". As long as any sets with more than one member remain, the same process is repeated on those sets, to determine successive digits of their codes. When a set has been reduced to one symbol this means the symbol\\'s code is complete and will not form the prefix of any other symbol\\'s code.\\n\\nThe algorithm produces fairly efficient variable-length encodings; when the two smaller sets produced by a partitioning are in fact of equal probability, the one bit of information used to distinguish them is used most efficiently. Unfortunately, ShannonвЂ“Fano coding does not always produce optimal prefix codes; the set of probabilities {0.35, 0.17, 0.17, 0.16, 0.15} is an example of one that will be assigned non-optimal codes by ShannonвЂ“Fano coding.\\n\\nFano\\'s version of ShannonвЂ“Fano coding is used in the IMPLODE compression method, which is part of the ZIP file format.'"
      ]
     },
     "execution_count": 1,
     "metadata": {},
     "output_type": "execute_result"
    }
   ],
   "source": [
    "str_input = open('Text.txt', 'r').read()\n",
    "str_input"
   ]
  },
  {
   "cell_type": "code",
   "execution_count": 2,
   "metadata": {
    "scrolled": false
   },
   "outputs": [
    {
     "data": {
      "text/plain": [
       "{' ': 196,\n",
       " 'e': 114,\n",
       " 'o': 88,\n",
       " 's': 82,\n",
       " 't': 75,\n",
       " 'i': 71,\n",
       " 'n': 68,\n",
       " 'a': 59,\n",
       " 'r': 44,\n",
       " 'h': 39,\n",
       " 'l': 39,\n",
       " 'd': 38,\n",
       " 'm': 30,\n",
       " 'c': 27,\n",
       " 'b': 26,\n",
       " 'f': 25,\n",
       " 'p': 20,\n",
       " 'y': 16,\n",
       " 'g': 15,\n",
       " 'u': 12,\n",
       " '.': 12,\n",
       " ',': 11,\n",
       " 'w': 9,\n",
       " 'v': 7,\n",
       " '0': 6,\n",
       " 'F': 5,\n",
       " '1': 5,\n",
       " \"'\": 4,\n",
       " '\"': 4,\n",
       " '\\n': 4,\n",
       " 'I': 3,\n",
       " ';': 3,\n",
       " 'x': 3,\n",
       " 'S': 3,\n",
       " 'в': 3,\n",
       " 'Ђ': 3,\n",
       " '“': 3,\n",
       " 'q': 2,\n",
       " 'A': 2,\n",
       " '-': 2,\n",
       " '5': 2,\n",
       " '7': 2,\n",
       " 'P': 2,\n",
       " 'W': 1,\n",
       " 'T': 1,\n",
       " 'U': 1,\n",
       " '{': 1,\n",
       " '3': 1,\n",
       " '6': 1,\n",
       " '}': 1,\n",
       " 'M': 1,\n",
       " 'L': 1,\n",
       " 'O': 1,\n",
       " 'D': 1,\n",
       " 'E': 1,\n",
       " 'Z': 1}"
      ]
     },
     "execution_count": 2,
     "metadata": {},
     "output_type": "execute_result"
    }
   ],
   "source": [
    "symb_fr = {}\n",
    "for keys in str_input:\n",
    "    symb_fr[keys] = symb_fr.get(keys,0) + 1\n",
    "symb_freq = dict(sorted(symb_fr.items(), key=lambda item: item[1], reverse=True))\n",
    "symb_freq"
   ]
  },
  {
   "cell_type": "code",
   "execution_count": 3,
   "metadata": {},
   "outputs": [
    {
     "data": {
      "text/plain": [
       "{' ': 0.164,\n",
       " 'e': 0.095,\n",
       " 'o': 0.074,\n",
       " 's': 0.069,\n",
       " 't': 0.063,\n",
       " 'i': 0.059,\n",
       " 'n': 0.057,\n",
       " 'a': 0.049,\n",
       " 'r': 0.037,\n",
       " 'h': 0.033,\n",
       " 'l': 0.033,\n",
       " 'd': 0.032,\n",
       " 'm': 0.025,\n",
       " 'c': 0.023,\n",
       " 'b': 0.022,\n",
       " 'f': 0.021,\n",
       " 'p': 0.017,\n",
       " 'y': 0.013,\n",
       " 'g': 0.013,\n",
       " 'u': 0.01,\n",
       " '.': 0.01,\n",
       " ',': 0.009,\n",
       " 'w': 0.008,\n",
       " 'v': 0.006,\n",
       " '0': 0.005,\n",
       " 'F': 0.004,\n",
       " '1': 0.004,\n",
       " \"'\": 0.003,\n",
       " '\"': 0.003,\n",
       " '\\n': 0.003,\n",
       " 'I': 0.003,\n",
       " ';': 0.003,\n",
       " 'x': 0.003,\n",
       " 'S': 0.003,\n",
       " 'в': 0.003,\n",
       " 'Ђ': 0.003,\n",
       " '“': 0.003,\n",
       " 'q': 0.002,\n",
       " 'A': 0.002,\n",
       " '-': 0.002,\n",
       " '5': 0.002,\n",
       " '7': 0.002,\n",
       " 'P': 0.002,\n",
       " 'W': 0.001,\n",
       " 'T': 0.001,\n",
       " 'U': 0.001,\n",
       " '{': 0.001,\n",
       " '3': 0.001,\n",
       " '6': 0.001,\n",
       " '}': 0.001,\n",
       " 'M': 0.001,\n",
       " 'L': 0.001,\n",
       " 'O': 0.001,\n",
       " 'D': 0.001,\n",
       " 'E': 0.001,\n",
       " 'Z': 0.001}"
      ]
     },
     "execution_count": 3,
     "metadata": {},
     "output_type": "execute_result"
    }
   ],
   "source": [
    "def probability(my_dict):\n",
    "    sum_symb = sum(my_dict.values())\n",
    "    for i in my_dict:\n",
    "        my_dict[i] = round(float(my_dict[i]/sum_symb),3)\n",
    "    return my_dict\n",
    "probability(symb_freq)"
   ]
  },
  {
   "cell_type": "code",
   "execution_count": null,
   "metadata": {},
   "outputs": [],
   "source": []
  }
 ],
 "metadata": {
  "kernelspec": {
   "display_name": "Python 3",
   "language": "python",
   "name": "python3"
  },
  "language_info": {
   "codemirror_mode": {
    "name": "ipython",
    "version": 3
   },
   "file_extension": ".py",
   "mimetype": "text/x-python",
   "name": "python",
   "nbconvert_exporter": "python",
   "pygments_lexer": "ipython3",
   "version": "3.8.5"
  }
 },
 "nbformat": 4,
 "nbformat_minor": 4
}
