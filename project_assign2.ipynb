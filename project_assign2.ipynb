{
 "cells": [
  {
   "cell_type": "code",
   "execution_count": 1,
   "metadata": {},
   "outputs": [
    {
     "data": {
      "text/plain": [
       "\"In Fano's method, the symbols are arranged in order from most probable to least probable\""
      ]
     },
     "execution_count": 1,
     "metadata": {},
     "output_type": "execute_result"
    }
   ],
   "source": [
    "str_input = open('Text.txt', 'r').read()\n",
    "str_input"
   ]
  },
  {
   "cell_type": "code",
   "execution_count": 2,
   "metadata": {
    "scrolled": false
   },
   "outputs": [
    {
     "data": {
      "text/plain": [
       "{' ': 14,\n",
       " 'o': 9,\n",
       " 'e': 8,\n",
       " 'r': 8,\n",
       " 'a': 7,\n",
       " 's': 5,\n",
       " 't': 5,\n",
       " 'b': 5,\n",
       " 'n': 4,\n",
       " 'm': 4,\n",
       " 'l': 4,\n",
       " 'd': 3,\n",
       " 'h': 2,\n",
       " 'p': 2,\n",
       " 'I': 1,\n",
       " 'F': 1,\n",
       " \"'\": 1,\n",
       " ',': 1,\n",
       " 'y': 1,\n",
       " 'g': 1,\n",
       " 'i': 1,\n",
       " 'f': 1}"
      ]
     },
     "execution_count": 2,
     "metadata": {},
     "output_type": "execute_result"
    }
   ],
   "source": [
    "symb_fr = {}\n",
    "for keys in str_input:\n",
    "    symb_fr[keys] = symb_fr.get(keys,0) + 1\n",
    "symb_freq = dict(sorted(symb_fr.items(), key=lambda item: item[1], reverse=True))\n",
    "symb_freq"
   ]
  },
  {
   "cell_type": "code",
   "execution_count": 3,
   "metadata": {},
   "outputs": [
    {
     "name": "stdout",
     "output_type": "stream",
     "text": [
      "  - 0.159\n",
      "o - 0.102\n",
      "e - 0.091\n",
      "r - 0.091\n",
      "a - 0.08\n",
      "s - 0.057\n",
      "t - 0.057\n",
      "b - 0.057\n",
      "n - 0.045\n",
      "m - 0.045\n",
      "l - 0.045\n",
      "d - 0.034\n",
      "h - 0.023\n",
      "p - 0.023\n",
      "I - 0.011\n",
      "F - 0.011\n",
      "' - 0.011\n",
      ", - 0.011\n",
      "y - 0.011\n",
      "g - 0.011\n",
      "i - 0.011\n",
      "f - 0.011\n"
     ]
    }
   ],
   "source": [
    "def probability(my_dict):\n",
    "    sum_symb = sum(my_dict.values())\n",
    "    for i in my_dict:\n",
    "        my_dict[i] = round(float(my_dict[i]/sum_symb),3)\n",
    "    return my_dict\n",
    "probability(symb_freq)\n",
    "for j in symb_freq:\n",
    "        print(j,'-', symb_freq[j])"
   ]
  },
  {
   "cell_type": "code",
   "execution_count": null,
   "metadata": {},
   "outputs": [],
   "source": []
  }
 ],
 "metadata": {
  "kernelspec": {
   "display_name": "Python 3",
   "language": "python",
   "name": "python3"
  },
  "language_info": {
   "codemirror_mode": {
    "name": "ipython",
    "version": 3
   },
   "file_extension": ".py",
   "mimetype": "text/x-python",
   "name": "python",
   "nbconvert_exporter": "python",
   "pygments_lexer": "ipython3",
   "version": "3.8.5"
  }
 },
 "nbformat": 4,
 "nbformat_minor": 4
}
